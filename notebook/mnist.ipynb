{
 "cells": [
  {
   "cell_type": "code",
   "execution_count": null,
   "id": "49fb2cc6",
   "metadata": {},
   "outputs": [
    {
     "ename": "ModuleNotFoundError",
     "evalue": "No module named 'sinkhorn'",
     "output_type": "error",
     "traceback": [
      "\u001b[31m---------------------------------------------------------------------------\u001b[39m",
      "\u001b[31mModuleNotFoundError\u001b[39m                       Traceback (most recent call last)",
      "\u001b[36mCell\u001b[39m\u001b[36m \u001b[39m\u001b[32mIn[10]\u001b[39m\u001b[32m, line 3\u001b[39m\n\u001b[32m      1\u001b[39m \u001b[38;5;28;01mimport\u001b[39;00m\u001b[38;5;250m \u001b[39m\u001b[34;01mnumpy\u001b[39;00m\u001b[38;5;250m \u001b[39m\u001b[38;5;28;01mas\u001b[39;00m\u001b[38;5;250m \u001b[39m\u001b[34;01mnp\u001b[39;00m\n\u001b[32m----> \u001b[39m\u001b[32m3\u001b[39m \u001b[38;5;28;01mfrom\u001b[39;00m\u001b[38;5;250m \u001b[39m\u001b[34;01msinkhorn\u001b[39;00m\u001b[34;01m.\u001b[39;00m\u001b[34;01mopt_transport\u001b[39;00m\u001b[38;5;250m \u001b[39m\u001b[38;5;28;01mimport\u001b[39;00m entropy_regularized_opt_transport_dual_dist\n\u001b[32m      4\u001b[39m \u001b[38;5;28;01mfrom\u001b[39;00m\u001b[38;5;250m \u001b[39m\u001b[34;01mexample\u001b[39;00m\u001b[34;01m.\u001b[39;00m\u001b[34;01mmnist\u001b[39;00m\u001b[38;5;250m \u001b[39m\u001b[38;5;28;01mimport\u001b[39;00m get_mnist_loaders, optimal_transport_cost_mat\n\u001b[32m      7\u001b[39m train, test = get_mnist_loaders()\n",
      "\u001b[31mModuleNotFoundError\u001b[39m: No module named 'sinkhorn'"
     ]
    }
   ],
   "source": [
    "import numpy as np\n",
    "\n",
    "from sinkhorn.opt_transport import entropy_regularized_opt_transport_dual_dist\n",
    "from example.mnist import get_mnist_loaders, optimal_transport_cost_mat\n",
    "\n",
    "\n",
    "train, test = get_mnist_loaders()\n",
    "COST_MAT = None\n",
    "\n",
    "for i, [img, label] in enumerate(train):\n",
    "    img1, img2 = img[0], img[1]\n",
    "\n",
    "    if COST_MAT is None:\n",
    "        COST_MAT = optimal_transport_cost_mat(int(np.sqrt(img1.shape[0])))\n",
    "\n",
    "    entropy_reg_dist = entropy_regularized_opt_transport_dual_dist(\n",
    "        img1.numpy(), img2.numpy(), COST_MAT, 9\n",
    "    )\n",
    "    print(\"--------------------------------\")\n",
    "    print(entropy_reg_dist)\n",
    "    print(\"label 1:\", label[0], \"label 2:\", label[1])\n",
    "    entropy_reg_dist = entropy_regularized_opt_transport_dual_dist(\n",
    "        img1.numpy(), img1.numpy(), COST_MAT, 9\n",
    "    )\n",
    "    print(\"--------------------------------\")\n",
    "    print(entropy_reg_dist)\n",
    "    print(\"label 1:\", label[0], \"label 2:\", label[0])\n",
    "\n",
    "    if i >= 5:\n",
    "        break"
   ]
  },
  {
   "cell_type": "code",
   "execution_count": null,
   "id": "7753d09e",
   "metadata": {},
   "outputs": [],
   "source": []
  }
 ],
 "metadata": {
  "kernelspec": {
   "display_name": "menv",
   "language": "python",
   "name": "python3"
  },
  "language_info": {
   "codemirror_mode": {
    "name": "ipython",
    "version": 3
   },
   "file_extension": ".py",
   "mimetype": "text/x-python",
   "name": "python",
   "nbconvert_exporter": "python",
   "pygments_lexer": "ipython3",
   "version": "3.13.2"
  }
 },
 "nbformat": 4,
 "nbformat_minor": 5
}
