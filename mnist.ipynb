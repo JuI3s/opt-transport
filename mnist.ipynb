{
 "cells": [
  {
   "cell_type": "code",
   "execution_count": 1,
   "id": "49fb2cc6",
   "metadata": {},
   "outputs": [
    {
     "name": "stdout",
     "output_type": "stream",
     "text": [
      "--------------------------------\n",
      "2.9509851198457615\n",
      "label 1: tensor(2) label 2: tensor(2)\n",
      "--------------------------------\n",
      "0.0004513423133009235\n",
      "label 1: tensor(2) label 2: tensor(2)\n",
      "--------------------------------\n",
      "1.7011713769580894\n",
      "label 1: tensor(5) label 2: tensor(0)\n",
      "--------------------------------\n",
      "0.00042847820400964814\n",
      "label 1: tensor(5) label 2: tensor(5)\n",
      "--------------------------------\n",
      "2.82857553283687\n",
      "label 1: tensor(3) label 2: tensor(7)\n",
      "--------------------------------\n",
      "0.0004668304164862234\n",
      "label 1: tensor(3) label 2: tensor(3)\n",
      "--------------------------------\n",
      "2.674027036378594\n",
      "label 1: tensor(1) label 2: tensor(9)\n",
      "--------------------------------\n",
      "0.0004636319908251344\n",
      "label 1: tensor(1) label 2: tensor(1)\n",
      "--------------------------------\n",
      "2.526897976481354\n",
      "label 1: tensor(0) label 2: tensor(8)\n",
      "--------------------------------\n",
      "0.00045964235392323\n",
      "label 1: tensor(0) label 2: tensor(0)\n",
      "--------------------------------\n",
      "2.356095226558762\n",
      "label 1: tensor(4) label 2: tensor(2)\n",
      "--------------------------------\n",
      "0.0004574806611907572\n",
      "label 1: tensor(4) label 2: tensor(4)\n"
     ]
    }
   ],
   "source": [
    "import numpy as np\n",
    "\n",
    "from sinkhorn.opt_transport import entropy_regularized_opt_transport_dual_dist\n",
    "from example.mnist import get_mnist_loaders, optimal_transport_cost_mat\n",
    "\n",
    "\n",
    "train, test = get_mnist_loaders()\n",
    "COST_MAT = None\n",
    "\n",
    "for i, [img, label] in enumerate(train):\n",
    "    img1, img2 = img[0], img[1]\n",
    "\n",
    "    if COST_MAT is None:\n",
    "        COST_MAT = optimal_transport_cost_mat(int(np.sqrt(img1.shape[0])))\n",
    "\n",
    "    entropy_reg_dist = entropy_regularized_opt_transport_dual_dist(\n",
    "        img1.numpy(), img2.numpy(), COST_MAT, 9\n",
    "    )\n",
    "    print(\"--------------------------------\")\n",
    "    print(entropy_reg_dist)\n",
    "    print(\"label 1:\", label[0], \"label 2:\", label[1])\n",
    "    entropy_reg_dist = entropy_regularized_opt_transport_dual_dist(\n",
    "        img1.numpy(), img1.numpy(), COST_MAT, 9\n",
    "    )\n",
    "    print(\"--------------------------------\")\n",
    "    print(entropy_reg_dist)\n",
    "    print(\"label 1:\", label[0], \"label 2:\", label[0])\n",
    "\n",
    "    if i >= 5:\n",
    "        break"
   ]
  }
 ],
 "metadata": {
  "kernelspec": {
   "display_name": "MyEnv",
   "language": "python",
   "name": "python3"
  },
  "language_info": {
   "codemirror_mode": {
    "name": "ipython",
    "version": 3
   },
   "file_extension": ".py",
   "mimetype": "text/x-python",
   "name": "python",
   "nbconvert_exporter": "python",
   "pygments_lexer": "ipython3",
   "version": "3.12.4"
  }
 },
 "nbformat": 4,
 "nbformat_minor": 5
}
